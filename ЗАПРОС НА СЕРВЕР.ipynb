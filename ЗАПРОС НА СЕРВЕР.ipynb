{
 "cells": [
  {
   "cell_type": "code",
   "execution_count": 3,
   "id": "4ec3802c",
   "metadata": {},
   "outputs": [],
   "source": [
    "import importlib\n",
    "import requests\n",
    "from PIL import Image\n",
    "import imghdr\n",
    "import os \n",
    "import cv2\n",
    "from io import BytesIO\n",
    "import json\n",
    "import numpy as np\n",
    "import time"
   ]
  },
  {
   "cell_type": "markdown",
   "id": "94abbaa6",
   "metadata": {},
   "source": [
    "# отправка запросов с видео файлом"
   ]
  },
  {
   "cell_type": "code",
   "execution_count": 10,
   "id": "ce407d5f",
   "metadata": {
    "scrolled": true
   },
   "outputs": [
    {
     "name": "stdout",
     "output_type": "stream",
     "text": [
      "data {'step': 50, 'mode': 1}\n",
      "response.headers {'date': 'Wed, 13 Nov 2024 06:37:45 GMT', 'server': 'uvicorn', 'content-length': '54', 'content-type': 'application/json'}\n",
      "result {'need_moderation': 1, 'timeslots': [], 'need_to_see': [5]}\n"
     ]
    }
   ],
   "source": [
    "#файл, который отправляем\n",
    "#img = r'D:\\projects\\ero_video\\dataset\\insta\\011.mp4' #без текста\n",
    "img = r'D:\\projects\\ero_txt\\_VIDEO\\dataset\\test 30\\Видео с текстом\\5b3012c99c38ea7955b363b9f1fb15bb805827a1.mp4' #видео с текстом\n",
    "# img = r'D:\\projects\\ero_txt\\_VIDEO\\dataset\\test 30\\Видео с текстом\\7eef700e450d03ea7083a307636179958348f6bf.mp4' #видео с текстом ВЫДАЕТ ОШИБКУ\n",
    "\n",
    "# img = r'D:\\projects\\ero_txt\\_VIDEO\\dataset\\test 30\\Видео с текстом\\12e8647a0c07e16045a912a8953297061e1e804e.mp4' \n",
    "# img = r'D:\\projects\\ero_txt\\_VIDEO\\dataset\\test 30\\Видео с текстом\\a7ee7b99b46830da26d322e9f75e4a3c9f04aab0.mp4' \n",
    "#img = r'Y:\\porn_test_timeout_error.mp4'\n",
    "#img =r'Y:\\444.mp4'\n",
    "\n",
    "data = {\"step\": 50, \"mode\":1}\n",
    "#ЕСЛИ need_moderation = 1 (то модерация нужна). В этом случае в зависимости от MODE будут дополнительные результаты в ответе\n",
    "# mode = 0 - как раньше получение таймслотов \n",
    "#Пример ответа: {'need_moderation': 1, 'timeslots': [{'timesslot': [0, 11]}, {'timesslot': [13, 17]}]}\n",
    "\n",
    "# mode = 1 - самый быстрый способ - ищем через step ПЕРВЫЙ кадр с текстом и вернется секунда, где он появился\n",
    "#Пример ответа: {'need_moderation': 1, 'timeslots': [], 'need_to_see': [12]}   - смотрим секунду 12\n",
    "\n",
    "# mode = 2 - ищем через step первый, второй и все последующие кадры и возвращаем только секунды, где есть текст.\n",
    "#пример ответа {'need_moderation': 1, 'timeslots': [], 'need_to_see': [0, 1, 2, 3, 4, 5, 6, 7, 8, 9, 10, 13, 14, 15, 16]}\n",
    "\n",
    "#если step не задан, то по умолчанию он == 10\n",
    "#если mode не задан, то по умолчанию он == 0\n",
    "\n",
    "#ecли mode = 1 или 2, то timeslots - будет пустым. Система не ищет таймслоты, но появится need_to_see - там будет список какие секунды надо посмотреть модератору\n",
    "#если mode = 0, то в ответе не будет need_to_see. Он появляется только если mode = 1 или mode = 2.\n",
    "\n",
    "#ЕСЛИ need_moderation = 0, то в ответе дополнительных параметров нет и смотреть там нечего. Система не нашла текста в видео\n",
    "\n",
    "url = \"http://127.0.0.1:8000/vd\"  #ЮРЛ - другой. Он отличается от картинки\n",
    "file = {\"video\": open(img, \"rb\")}  #открываем файл как бинарный\n",
    "\n",
    "response = requests.post(url, files=file,  data=data)\n",
    "print('data',data)\n",
    "\n",
    "print('response.headers',response.headers)\n",
    "if response.status_code == 200:\n",
    "   \n",
    "    result = response.json()\n",
    "    print('result', result)\n",
    "\n",
    "else:\n",
    "    print(f\"Error: {response.status_code} - {response.text}\")\n",
    "\n",
    "\n",
    "\n",
    "#ОПИСАНИЕ СТРУКТУРЫ ОТВЕТА\n",
    "#json структура. \n",
    "#need_moderation\n",
    "    #1 - нужна модерация\n",
    "    #0 - модераци не нужна, текстов не найдено\n",
    "\n",
    "# Если need_moderation = 1 и mode = 0, то появится еще один ключ timeslots\n",
    "# В нем в списке хранятся словари {'timesslot': [sN, sF]}\n",
    "# timesslot - начало и окончание кадров с текстом в видео. \n",
    "# Таких словарей может быть несколько в зависимости от того, сколько найдено таймслотов. \n",
    "\n",
    "# Если need_moderation = 1 и  mode = 1 - самый быстрый способ - ищем через step ПЕРВЫЙ кадр с текстом\n",
    "#Пример: {'need_moderation': 1, 'timeslots': [], 'need_to_see': [12]}   - смотрим секунду 12\n",
    "# Если need_moderation = 1 и  mode = 2 - ищем через step первый, второй и все последующие кадры и возвращаем тогда только найденные секунды, где есть текст.\n",
    "#пример {'need_moderation': 1, 'timeslots': [], 'need_to_see': [0, 1, 2, 3, 4, 5, 6, 7, 8, 9, 10, 13, 14, 15, 16]}\n",
    "\n",
    "\n",
    "\n",
    "# Как из framme_data получать изображение:\n",
    "# jpeg_bytes_list = record['frame_data'] #в обзем виде это массив чисел, который сейчас будем перепаковывать в jpg\n",
    "# jpeg_bytes_array = np.array(jpeg_bytes_list, dtype=np.uint8)\n",
    "# image = cv2.imdecode(jpeg_bytes_array, flags=cv2.IMREAD_COLOR)\n",
    "\n",
    "# image - будет содержать картинку. Далее с ним можно делать всё, что хотим: сохранить, показать,  и т.д... далее есть пример\n"
   ]
  },
  {
   "cell_type": "markdown",
   "id": "96a0e8ea",
   "metadata": {},
   "source": [
    "## Обработка сразу несколько видео с результатом замера времени в зависимости от разных MODE"
   ]
  },
  {
   "cell_type": "code",
   "execution_count": 69,
   "id": "b8697a7e",
   "metadata": {},
   "outputs": [
    {
     "name": "stdout",
     "output_type": "stream",
     "text": [
      "Y:\\porn_test_timeout_error.mp4\n",
      "    Функция 0 выполнялась 744.696984 секунд {'need_moderation': 1, 'timeslots': [{'timesslot': [0, 30]}]}\n",
      "    Функция 1 выполнялась 1.435840 секунд {'need_moderation': 1, 'timeslots': [], 'need_to_see': [0]}\n",
      "    Функция 2 выполнялась 30.788945 секунд {'need_moderation': 1, 'timeslots': [], 'need_to_see': [0, 1, 2, 3, 4, 5, 6, 7, 8, 9, 10, 11, 12, 13, 14, 15, 16, 17, 18, 19, 20, 21, 22, 23, 24, 25, 26, 27, 28]}\n"
     ]
    }
   ],
   "source": [
    "#Замер кучи видео\n",
    "vid =[r'Y:\\porn_test_timeout_error.mp4',\n",
    "#     r'D:\\projects\\ero_video\\dataset\\insta\\011.mp4',\n",
    "# r'D:\\projects\\ero_txt\\_VIDEO\\dataset\\test 30\\Видео с текстом\\5b3012c99c38ea7955b363b9f1fb15bb805827a1.mp4',\n",
    "# r'D:\\projects\\ero_txt\\_VIDEO\\dataset\\test 30\\Видео с текстом\\7eef700e450d03ea7083a307636179958348f6bf.mp4', \n",
    "# r'D:\\projects\\ero_txt\\_VIDEO\\dataset\\test 30\\Видео с текстом\\12e8647a0c07e16045a912a8953297061e1e804e.mp4', \n",
    "# r'D:\\projects\\ero_txt\\_VIDEO\\dataset\\test 30\\Видео с текстом\\a7ee7b99b46830da26d322e9f75e4a3c9f04aab0.mp4'\n",
    "     ]\n",
    "\n",
    "def req(img,m):\n",
    "    data = {\"step\": 25, \"mode\":m}\n",
    "    url = \"http://127.0.0.1:8000/vd\"  #ЮРЛ - другой. Он отличается от картинки\n",
    "    file = {\"video\": open(img, \"rb\")}  #открываем файл как бинарный\n",
    "    response = requests.post(url, files=file,  data=data)\n",
    "    result = response.json()\n",
    "    return result\n",
    "    \n",
    "for v in vid:\n",
    "    print(v)\n",
    "    for mode in [0,1,2]:\n",
    "        start_time = time.perf_counter()\n",
    "        rez = req(v,mode)\n",
    "        end_time = time.perf_counter()\n",
    "        elapsed_time = end_time - start_time\n",
    "        print(f\"    Функция {mode} выполнялась {elapsed_time:.6f} секунд\", rez)\n"
   ]
  },
  {
   "cell_type": "markdown",
   "id": "a5e9971d-4dd1-4e71-a117-d70ba2f32c74",
   "metadata": {},
   "source": [
    "# ПОЛНЫЙ ПРИМЕР"
   ]
  },
  {
   "cell_type": "code",
   "execution_count": null,
   "id": "898b3d42-3443-46e2-ac31-14fc5c50257c",
   "metadata": {},
   "outputs": [],
   "source": [
    "#перебираем все файлы, отправляем их на модерацию, получам и обрабатываем ответ, сохраняем полученные кадры с тектом"
   ]
  },
  {
   "cell_type": "code",
   "execution_count": null,
   "id": "25d6b590-5af9-4644-b0dc-c9b3ba5720b8",
   "metadata": {},
   "outputs": [],
   "source": [
    "#функция получает ответ API, и достает из jsona все jpg и таймсслоты\n",
    "def unpack_jpg_from_json(rez,item=''):\n",
    "    if rez['need_moderation']:\n",
    "        print('нужна модерация')\n",
    "        #достаем фото\n",
    "        for record in rez['timeslots']:\n",
    "            print(record['timesslot']) #это наш таймслот. их в ответе может быть от 1 до много\n",
    "            jpeg_bytes_list = record['frame_data'] #в обзем виде это массив чисел, который сейчас будем перепаковывать в jpg\n",
    "            jpeg_bytes_array = np.array(jpeg_bytes_list, dtype=np.uint8)\n",
    "            image = cv2.imdecode(jpeg_bytes_array, flags=cv2.IMREAD_COLOR)\n",
    "            #сохраняем сюда\n",
    "            key_frame = record['timesslot'][0] #ключевой кадр\n",
    "            cv2.imwrite(f'Y:\\decoded_image {item} {key_frame}.jpg', image)\n",
    "    else:\n",
    "        print('Модерация пройдена')\n",
    "\n",
    "\n",
    "\n"
   ]
  },
  {
   "cell_type": "code",
   "execution_count": null,
   "id": "3fceaee5-a374-4465-9488-450d39f24487",
   "metadata": {},
   "outputs": [],
   "source": [
    "url = \"http://127.0.0.1:8000/vd\"  #ЮРЛ - другой. \n",
    "    \n",
    "def get_moderation_video_file(video_file,item):\n",
    "    file = {\"video\": open(video_file, \"rb\")}  #открываем файл как бинарный\n",
    "\n",
    "    response = requests.post(url, files=file)\n",
    "    if response.status_code == 200:\n",
    "        result = response.json()\n",
    "        #print(result)\n",
    "        unpack_jpg_from_json(result,item)\n",
    "    else:\n",
    "        print(f\"Error: {response.status_code} - {response.text}\")"
   ]
  },
  {
   "cell_type": "code",
   "execution_count": null,
   "id": "89b0e681-8a91-4a08-93b2-a67e395328fe",
   "metadata": {
    "scrolled": true
   },
   "outputs": [],
   "source": [
    "#Тестируем. Перебираем все файлы полученные\n",
    "import os\n",
    "\n",
    "directory_path = r'D:\\projects\\ero_txt\\_VIDEO\\dataset\\test 30\\Видео с текстом'\n",
    "# directory_path = r'D:\\projects\\ero_txt\\_VIDEO\\dataset\\test 30\\видео без текста'\n",
    "#directory_path =  r'D:\\projects\\ero_txt\\_VIDEO\\dataset\\test 1000'\n",
    "\n",
    "files_and_dirs = os.listdir(directory_path)\n",
    "\n",
    "for item in files_and_dirs:\n",
    "    work_file = os.path.join(directory_path, item)\n",
    "    print(work_file)\n",
    "    get_moderation_video_file(work_file,item)"
   ]
  },
  {
   "cell_type": "code",
   "execution_count": null,
   "id": "ce3eb022-74f6-4943-a751-a70fb2557124",
   "metadata": {},
   "outputs": [],
   "source": []
  },
  {
   "cell_type": "markdown",
   "id": "b3174a79",
   "metadata": {},
   "source": [
    "# отправка запросов с изображением файлом"
   ]
  },
  {
   "cell_type": "code",
   "execution_count": 15,
   "id": "41c485e0",
   "metadata": {},
   "outputs": [
    {
     "name": "stdout",
     "output_type": "stream",
     "text": [
      "{'need_moderation': 0}\n"
     ]
    }
   ],
   "source": [
    "img  = r'D:\\projects\\ero_txt\\txt_girls\\data_set\\inp_2023-12-03 19-09-00.jpg' #пример с текстом\n",
    "img  = r'D:\\projects\\ero_txt\\Оружие\\2024-05-20_12-09-55.png'\n",
    "\n",
    "url = \"http://localhost:8000/ps\"\n",
    "file = {\"image\": open(img, \"rb\")}  #открываем файл как бинарный\n",
    "\n",
    "\n",
    "response = requests.post(url, files=file)\n",
    "\n",
    "#print(response.headers)\n",
    "if response.status_code == 200:\n",
    "    result = response.json()\n",
    "    print( result)\n",
    "\n",
    "#json структура. \n",
    "#need_moderation\n",
    "    #1 - нужна модерация\n",
    "    #0 - модераци не нужна, текстов не найдено"
   ]
  },
  {
   "cell_type": "code",
   "execution_count": null,
   "id": "d80c13af-63d6-4375-a580-39c578bcf6cd",
   "metadata": {},
   "outputs": [],
   "source": []
  },
  {
   "cell_type": "code",
   "execution_count": null,
   "id": "906ec4a1-c5a5-477c-9075-c262d8918f67",
   "metadata": {},
   "outputs": [],
   "source": []
  },
  {
   "cell_type": "code",
   "execution_count": null,
   "id": "b6d89fec-5f09-42fb-b01a-9f2b865129d4",
   "metadata": {},
   "outputs": [],
   "source": []
  }
 ],
 "metadata": {
  "kernelspec": {
   "display_name": "CRAFT2",
   "language": "python",
   "name": "craft2"
  },
  "language_info": {
   "codemirror_mode": {
    "name": "ipython",
    "version": 3
   },
   "file_extension": ".py",
   "mimetype": "text/x-python",
   "name": "python",
   "nbconvert_exporter": "python",
   "pygments_lexer": "ipython3",
   "version": "3.9.19"
  }
 },
 "nbformat": 4,
 "nbformat_minor": 5
}
